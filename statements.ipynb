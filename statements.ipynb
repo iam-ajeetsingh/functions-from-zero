{
  "nbformat": 4,
  "nbformat_minor": 0,
  "metadata": {
    "colab": {
      "provenance": [],
      "authorship_tag": "ABX9TyNplt8iUzEAIG3GCVuld6u/",
      "include_colab_link": true
    },
    "kernelspec": {
      "name": "python3",
      "display_name": "Python 3"
    },
    "language_info": {
      "name": "python"
    }
  },
  "cells": [
    {
      "cell_type": "markdown",
      "metadata": {
        "id": "view-in-github",
        "colab_type": "text"
      },
      "source": [
        "<a href=\"https://colab.research.google.com/github/iam-ajeetsingh/functions-from-zero/blob/main/statements.ipynb\" target=\"_parent\"><img src=\"https://colab.research.google.com/assets/colab-badge.svg\" alt=\"Open In Colab\"/></a>"
      ]
    },
    {
      "cell_type": "markdown",
      "source": [
        "## Learning Statements"
      ],
      "metadata": {
        "id": "M0C-x-Fuuzi5"
      }
    },
    {
      "cell_type": "code",
      "execution_count": 1,
      "metadata": {
        "colab": {
          "base_uri": "https://localhost:8080/"
        },
        "id": "PkCbkN0FumZH",
        "outputId": "12f376d0-d72e-4a6e-ed69-cce253fd2960"
      },
      "outputs": [
        {
          "output_type": "stream",
          "name": "stdout",
          "text": [
            "Hello World\n"
          ]
        }
      ],
      "source": [
        "print(\"Hello World\")"
      ]
    },
    {
      "cell_type": "markdown",
      "source": [
        "## Variables"
      ],
      "metadata": {
        "id": "051nDvYcux6-"
      }
    },
    {
      "cell_type": "code",
      "source": [
        "variable = 1\n"
      ],
      "metadata": {
        "id": "q8mTx2l9vNyY"
      },
      "execution_count": 2,
      "outputs": []
    },
    {
      "cell_type": "markdown",
      "source": [],
      "metadata": {
        "id": "QgxmUICevUuE"
      }
    },
    {
      "cell_type": "code",
      "source": [],
      "metadata": {
        "id": "O9nSVt63vS5C"
      },
      "execution_count": null,
      "outputs": []
    },
    {
      "cell_type": "markdown",
      "source": [],
      "metadata": {
        "id": "hJjYGu3nvUQd"
      }
    },
    {
      "cell_type": "code",
      "source": [],
      "metadata": {
        "id": "u4pBfaPsvT4z"
      },
      "execution_count": null,
      "outputs": []
    }
  ]
}